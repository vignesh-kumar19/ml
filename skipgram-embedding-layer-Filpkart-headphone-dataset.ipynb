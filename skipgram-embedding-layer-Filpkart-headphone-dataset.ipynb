{
 "cells": [
  {
   "cell_type": "code",
   "execution_count": 1,
   "metadata": {},
   "outputs": [],
   "source": [
    "# https://github.com/ecsplendid/nlp-skipgram-talk/blob/master/SkipGram%20NegativeSampling-IMDB.ipynb"
   ]
  },
  {
   "cell_type": "code",
   "execution_count": 2,
   "metadata": {},
   "outputs": [
    {
     "name": "stderr",
     "output_type": "stream",
     "text": [
      "/home/viki/anaconda3/lib/python3.6/site-packages/h5py/__init__.py:36: FutureWarning: Conversion of the second argument of issubdtype from `float` to `np.floating` is deprecated. In future, it will be treated as `np.float64 == np.dtype(float).type`.\n",
      "  from ._conv import register_converters as _register_converters\n",
      "Using TensorFlow backend.\n"
     ]
    }
   ],
   "source": [
    "from pickle import load\n",
    "from numpy import array, zeros\n",
    "from sklearn.preprocessing import OneHotEncoder\n",
    "from keras.preprocessing.sequence import skipgrams\n",
    "from sklearn.metrics.pairwise import cosine_distances\n",
    "import numpy as np\n",
    "import matplotlib.pyplot as plt"
   ]
  },
  {
   "cell_type": "code",
   "execution_count": 3,
   "metadata": {},
   "outputs": [],
   "source": [
    "# Load data set\n",
    "raw_x, raw_y = load(open(\"/home/viki/Desktop/flipkart.pkl\", 'rb'))"
   ]
  },
  {
   "cell_type": "code",
   "execution_count": 4,
   "metadata": {},
   "outputs": [
    {
     "name": "stdout",
     "output_type": "stream",
     "text": [
      "{ratings: counts} --> {'4': 7300, '5': 15715, '2': 1457, '1': 3268, '3': 2836}\n"
     ]
    }
   ],
   "source": [
    "# Remove Empty set if any\n",
    "count = 0\n",
    "data_x = []\n",
    "data_y = []\n",
    "for idx in range(len(raw_x)):\n",
    "    if not raw_x[idx] == []:\n",
    "        data_x.append(raw_x[idx])\n",
    "        data_y.append(raw_y[idx])\n",
    "\n",
    "# Check total number of stars\n",
    "ratings = {}\n",
    "for i in data_y:\n",
    "    if not ratings.get(i):\n",
    "        ratings[i] = 1\n",
    "        continue\n",
    "    else:\n",
    "        ratings[i] += 1\n",
    "print(\"{ratings: counts} -->\", ratings)"
   ]
  },
  {
   "cell_type": "code",
   "execution_count": 5,
   "metadata": {},
   "outputs": [
    {
     "name": "stdout",
     "output_type": "stream",
     "text": [
      "size of vocabulary,  7426\n"
     ]
    }
   ],
   "source": [
    "# Read vocabulary  in corpus\n",
    "vocab = []\n",
    "for seq in data_x:\n",
    "    for i in seq: \n",
    "        if i in vocab:\n",
    "            continue\n",
    "        vocab.append(i)\n",
    "vocab_size = len(vocab)\n",
    "print(\"size of vocabulary, \", vocab_size)"
   ]
  },
  {
   "cell_type": "code",
   "execution_count": 6,
   "metadata": {},
   "outputs": [],
   "source": [
    "# Check vocab has duplication\n",
    "vocab_checking = []\n",
    "for v in vocab:\n",
    "    if v in vocab_checking:\n",
    "        print(v, \"is duplicated\")\n",
    "        break\n",
    "    vocab_checking.append(v)\n",
    "vocab_checking = None"
   ]
  },
  {
   "cell_type": "code",
   "execution_count": 7,
   "metadata": {},
   "outputs": [],
   "source": [
    "# Create word to index, index to word\n",
    "word_to_index = {word:idx for idx, word in enumerate(vocab)}\n",
    "index_to_word = {idx: word for word, idx in word_to_index.items()}"
   ]
  },
  {
   "cell_type": "code",
   "execution_count": 8,
   "metadata": {},
   "outputs": [],
   "source": [
    "# sentence to sequence of integers\n",
    "seq_x = [ list(map(word_to_index.get, i)) for i in data_x ]"
   ]
  },
  {
   "cell_type": "code",
   "execution_count": 9,
   "metadata": {},
   "outputs": [],
   "source": [
    "sliding_window = 1\n",
    "negative_sampling = 0.8\n",
    "# Count outputs size of skipgrams\n",
    "# s = (len(embedding) * (ws*2))-(ws*(ws+1))\n",
    "# s = int( s + s*ns )\n",
    "# skipgrams_count = 0\n",
    "# tokens = 0\n",
    "# for i in seq_x:\n",
    "#     tokens += len(i)\n",
    "#     s = (len(i) * (sliding_window*2)) - (sliding_window*(sliding_window+1))\n",
    "#     s = int(s + s*negative_sampling)\n",
    "#     skipgrams_count += s\n",
    "# print(\"Totally\", skipgrams_count, \"skipgrams are there for\", tokens, \"words in corpus\")"
   ]
  },
  {
   "cell_type": "code",
   "execution_count": 10,
   "metadata": {},
   "outputs": [
    {
     "name": "stdout",
     "output_type": "stream",
     "text": [
      "Totally 417738 skipgrams are there\n"
     ]
    }
   ],
   "source": [
    "# Initialize words, context, output with zeros \n",
    "words = []\n",
    "context = []\n",
    "y = []\n",
    "\n",
    "for seq in seq_x:\n",
    "    ip, op = skipgrams(sequence=seq, vocabulary_size=vocab_size, window_size=sliding_window, negative_samples=negative_sampling)\n",
    "    for i in range(len(ip)):\n",
    "        words.append(ip[i][0])\n",
    "        context.append(ip[i][1])\n",
    "        y.append(op[i])\n",
    "print(\"Totally\", len(words), \"skipgrams are there\")"
   ]
  },
  {
   "cell_type": "code",
   "execution_count": 11,
   "metadata": {},
   "outputs": [
    {
     "name": "stdout",
     "output_type": "stream",
     "text": [
      "Word + Context = 0/1 -->  [('good', 'ok', [1]), ('breaks', 'eat', [0]), ('durability', 'giftted', [0]), ('yet', 'dameged', [0]), ('good', 'yet', [1]), ('good', 'range', [1]), ('difficult', 'brilliant', [0]), ('breaks', 'palstic', [1]), ('yet', 'cancelling', [1]), ('difficult', 'easily', [1]), ('easily', 'lucky', [0]), ('good', 'grade', [0]), ('price', 'reliability', [0]), ('good', 'price', [1]), ('cancelling', 'noise', [1]), ('ok', 'good', [1]), ('ok', 'sound', [1]), ('carry', 'difficult', [1]), ('carry', 'attractions', [0]), ('carry', 'mistake', [0]), ('sound', 'durability', [1]), ('cancelling', 'yet', [1]), ('difficult', 'curve', [0]), ('sound', 'ok', [1]), ('good', 'wh', [0]), ('palstic', 'breaks', [1]), ('yet', 'early', [0]), ('carry', 'noise', [1]), ('palstic', 'durability', [1]), ('palstic', 'dumb', [0]), ('difficult', 'carry', [1]), ('yet', 'good', [1]), ('good', 'repeat', [0]), ('durability', 'palstic', [1]), ('good', 'overshadows', [0]), ('sound', 'notjinh', [0]), ('noise', 'carry', [1]), ('noise', 'review', [0]), ('palstic', 'fill', [0]), ('easily', 'oriented', [0]), ('noise', 'cancelling', [1]), ('cancelling', 'eligable', [0]), ('durability', 'sound', [1]), ('range', 'good', [1]), ('easily', 'breaks', [1]), ('car', 'half', [1]), ('price', 'thinks', [0]), ('awesome', 'plets', [0]), ('good', 'breaks', [1]), ('could', 'still', [0]), ('per', 'sound', [1]), ('product', 'ch', [0]), ('using', 'product', [1]), ('half', 'straight', [0]), ('product', 'years', [1]), ('quality', 'showed', [0]), ('cut', 'wire', [1]), ('super', 'awesome', [1]), ('breaks', 'saller', [0]), ('cut', 'serial', [0]), ('car', 'maintaining', [0]), ('another', 'half', [1]), ('issue', 'years', [1]), ('wire', 'cashback', [0]), ('got', 'super', [1]), ('issue', 'audio', [1]), ('product', 'unbeatable', [1]), ('super', 'headphons', [0]), ('join', 'another', [1]), ('breaks', 'cut', [1]), ('breaks', 'weaker', [0]), ('unbeatable', 'throw', [0]), ('wire', 'obviously', [0]), ('wire', 'half', [1]), ('quality', 'built', [1]), ('issue', 'quicr', [0]), ('cut', 'breaks', [1]), ('unbeatable', 'price', [1]), ('years', 'littlebit', [0]), ('quality', 'could', [1]), ('join', 'half', [1]), ('sound', 'hype', [0]), ('using', 'issue', [1]), ('price', 'unbeatable', [1]), ('car', 'audio', [1]), ('wire', 'good', [1]), ('built', 'needs', [0]), ('audio', 'somethings', [0]), ('built', 'net', [0]), ('awesome', 'product', [1]), ('issue', 'using', [1]), ('another', 'makkhan', [0]), ('per', 'could', [1]), ('quality', 'somit', [0]), ('car', 'flexible', [0]), ('issue', 'intellectual', [0]), ('half', 'focus', [0]), ('could', 'per', [1]), ('quality', 'issue', [1]), ('sound', 'wire', [1])]\n"
     ]
    }
   ],
   "source": [
    "# Verification\n",
    "print(\"Word + Context = 0/1 --> \", [(index_to_word[i], index_to_word[j], [k]) for i,j,k in zip(words, context, y)][200:300])"
   ]
  },
  {
   "cell_type": "code",
   "execution_count": 12,
   "metadata": {},
   "outputs": [],
   "source": [
    "onehot = OneHotEncoder(n_values=vocab_size)\n",
    "\n",
    "def batcher(seq, batch_size):\n",
    "    return (seq[pos:pos+batch_size] for pos in range(0, len(seq), batch_size))\n",
    "\n",
    "def getBatch(w, c, y, batch_size):\n",
    "    while 1:\n",
    "        batches = batcher(range(len(words)), batch_size)\n",
    "\n",
    "        for batch in batches:\n",
    "            w_one_hot = onehot.fit_transform(np.array(list(w[i] for i in batch)).reshape(-1, 1)).todense()\n",
    "            c_one_hot = onehot.fit_transform(np.array(list(c[i] for i in batch)).reshape(-1, 1)).todense()\n",
    "            y_one_hot = np.array(list(y[i] for i in batch))\n",
    "            \n",
    "            yield ([w_one_hot,c_one_hot], y_one_hot)\n",
    "\n",
    "batch_size = 1000\n",
    "gen = getBatch(words, context, y, batch_size)"
   ]
  },
  {
   "cell_type": "code",
   "execution_count": 13,
   "metadata": {},
   "outputs": [
    {
     "name": "stdout",
     "output_type": "stream",
     "text": [
      "__________________________________________________________________________________________________\n",
      "Layer (type)                    Output Shape         Param #     Connected to                     \n",
      "==================================================================================================\n",
      "input_1 (InputLayer)            (None, 7426)         0                                            \n",
      "__________________________________________________________________________________________________\n",
      "input_2 (InputLayer)            (None, 7426)         0                                            \n",
      "__________________________________________________________________________________________________\n",
      "dense_1 (Dense)                 (None, 300)          2228100     input_1[0][0]                    \n",
      "__________________________________________________________________________________________________\n",
      "dense_2 (Dense)                 (None, 300)          2228100     input_2[0][0]                    \n",
      "__________________________________________________________________________________________________\n",
      "dot_1 (Dot)                     (None, 1)            0           dense_1[0][0]                    \n",
      "                                                                 dense_2[0][0]                    \n",
      "__________________________________________________________________________________________________\n",
      "reshape_1 (Reshape)             (None, 1)            0           dot_1[0][0]                      \n",
      "__________________________________________________________________________________________________\n",
      "activation_1 (Activation)       (None, 1)            0           reshape_1[0][0]                  \n",
      "==================================================================================================\n",
      "Total params: 4,456,200\n",
      "Trainable params: 4,456,200\n",
      "Non-trainable params: 0\n",
      "__________________________________________________________________________________________________\n"
     ]
    }
   ],
   "source": [
    "dimensions = 300\n",
    "\n",
    "from keras.layers import Activation, dot, Reshape, Input, Dense\n",
    "from keras.models import Model\n",
    "\n",
    "input_word = Input(shape=(vocab_size,))\n",
    "input_context = Input(shape=(vocab_size,))\n",
    "\n",
    "dense_word = Dense(300)(input_word)\n",
    "dense_context = Dense(300)(input_context)\n",
    "\n",
    "dott = dot([dense_word, dense_context], 1)\n",
    "reshape = Reshape((1,), input_shape=(1, 1))(dott)\n",
    "output = Activation('sigmoid')(reshape)\n",
    "\n",
    "model = Model(inputs=[input_word, input_context], outputs=[output])\n",
    "model.compile(loss='binary_crossentropy', optimizer='adam')\n",
    "model.summary()"
   ]
  },
  {
   "cell_type": "code",
   "execution_count": 14,
   "metadata": {},
   "outputs": [],
   "source": [
    "# from keras.utils import plot_model\n",
    "# plot_model(model, to_file='sg-softmax.png')"
   ]
  },
  {
   "cell_type": "code",
   "execution_count": 15,
   "metadata": {},
   "outputs": [
    {
     "name": "stdout",
     "output_type": "stream",
     "text": [
      "Steps per epoch: 417\n",
      "Epoch 1/5\n",
      "417/417 [==============================] - 125s 301ms/step - loss: 0.3715\n",
      "Epoch 2/5\n",
      "417/417 [==============================] - 122s 293ms/step - loss: 0.2934\n",
      "Epoch 3/5\n",
      "417/417 [==============================] - 131s 314ms/step - loss: 0.2825\n",
      "Epoch 4/5\n",
      "417/417 [==============================] - 127s 304ms/step - loss: 0.2683\n",
      "Epoch 5/5\n",
      "417/417 [==============================] - 136s 326ms/step - loss: 0.2482\n",
      "CPU times: user 34min 6s, sys: 2min 3s, total: 36min 9s\n",
      "Wall time: 10min 41s\n"
     ]
    }
   ],
   "source": [
    "%%time\n",
    "steps_perepoch = int(len(words)/batch_size)\n",
    "print(\"Steps per epoch: %d\" % steps_perepoch)\n",
    "\n",
    "history = model.fit_generator(gen, steps_per_epoch=steps_perepoch, epochs=5)"
   ]
  },
  {
   "cell_type": "code",
   "execution_count": 16,
   "metadata": {},
   "outputs": [
    {
     "data": {
      "image/png": "[encoded data removed]",
      "text/plain": [
       "<matplotlib.figure.Figure at 0x7f75bf29e668>"
      ]
     },
     "metadata": {},
     "output_type": "display_data"
    }
   ],
   "source": [
    "plt.plot(history.history['loss'])\n",
    "plt.title('loss')\n",
    "plt.tight_layout()\n",
    "plt.show()"
   ]
  },
  {
   "cell_type": "code",
   "execution_count": 17,
   "metadata": {},
   "outputs": [],
   "source": [
    "W, b = model.layers[2].get_weights()"
   ]
  },
  {
   "cell_type": "code",
   "execution_count": 18,
   "metadata": {},
   "outputs": [
    {
     "name": "stdout",
     "output_type": "stream",
     "text": [
      "[[ 0.01082266  0.08939599  0.13700417  0.05659332 -0.03455525  0.05542785\n",
      "   0.06687147 -0.06519829  0.09480326 -0.08094492  0.06451854 -0.02474886\n",
      "   0.06628592  0.04415993 -0.09964287 -0.11411594 -0.07787927 -0.07261389\n",
      "   0.11265744 -0.03401594  0.09422398 -0.10090139 -0.04462065  0.06526309\n",
      "  -0.12552607 -0.05706076 -0.11594392  0.12926401 -0.1245788   0.04970425\n",
      "  -0.04287493 -0.05608106 -0.11694035 -0.03745536 -0.07070533 -0.04881976\n",
      "   0.11900918 -0.06417853 -0.05247302  0.05128114 -0.03933613  0.05900391\n",
      "  -0.05033375 -0.16682482 -0.06400925 -0.08984563  0.08366995 -0.06624165\n",
      "   0.03351696  0.17527473 -0.07594745 -0.05447282  0.12666867 -0.12904482\n",
      "   0.04793499  0.09607318 -0.07769022  0.0690478  -0.08830765  0.10003887\n",
      "   0.04793111  0.13584991  0.10016608  0.08493786  0.03822772  0.04243951\n",
      "   0.17642617  0.18900184 -0.06523384  0.07807607 -0.03213592 -0.06177717\n",
      "  -0.07203411 -0.03552999  0.09654771 -0.04509222 -0.06549631  0.1156326\n",
      "  -0.13045116  0.08461596 -0.0828656   0.09527505  0.04355242  0.06794989\n",
      "  -0.05228802  0.11450002  0.0933533   0.05827978  0.09854949 -0.06190827\n",
      "  -0.11197571 -0.0787562   0.06459201  0.06919712 -0.03551947  0.03338642\n",
      "  -0.04123077 -0.1554928  -0.05089859  0.05406996 -0.12284513 -0.12544734\n",
      "  -0.09839161  0.03631774  0.04177508  0.10845339 -0.04543221 -0.06292229\n",
      "   0.06021155 -0.09031973  0.05966051  0.04647367 -0.11921996  0.08627137\n",
      "  -0.10688554  0.12514395  0.08872897 -0.06745406  0.09008244  0.10556875\n",
      "   0.07220249  0.06783101 -0.07406675 -0.06841502 -0.1002623  -0.04163238\n",
      "   0.04476943 -0.04437879 -0.17547669 -0.05480988 -0.08878794 -0.03941153\n",
      "   0.0509437   0.03989877 -0.09346113  0.10694735 -0.09558912  0.06965817\n",
      "  -0.06745609  0.0817271  -0.03437615  0.10627024 -0.09498562 -0.14436205\n",
      "  -0.04167939 -0.07941239 -0.09793457 -0.06180109  0.07192493 -0.07960016\n",
      "  -0.07515823 -0.1540707   0.06538152  0.08867543  0.05166957  0.07688697\n",
      "   0.25854529  0.08263622  0.06053365  0.05558259 -0.24124966  0.05054811\n",
      "   0.04516776 -0.11444557 -0.04130265  0.12468247  0.0876265  -0.12757566\n",
      "   0.07924864 -0.06367008 -0.03794072  0.09659821  0.05445015 -0.06591763\n",
      "   0.04755691  0.12010953  0.03705035 -0.09596065 -0.05463832  0.03994796\n",
      "   0.08603959 -0.13520112  0.06283673 -0.07140733  0.08391906 -0.07836327\n",
      "  -0.10065119 -0.05584446  0.06691097 -0.08348129  0.12543924  0.02992231\n",
      "   0.07500845  0.05562385 -0.07272176  0.04368659 -0.07911159 -0.07923309\n",
      "   0.11280524 -0.06227414 -0.11981732 -0.07320853 -0.03733988  0.04425405\n",
      "  -0.10659882  0.07221281 -0.17097626 -0.06211493 -0.02413501 -0.17057997\n",
      "  -0.05606773  0.06529202  0.07473983 -0.15735546 -0.06311565 -0.12184373\n",
      "  -0.09153814 -0.09142937 -0.12091445 -0.04880084  0.0290799  -0.0145842\n",
      "  -0.05004169 -0.12707823 -0.08235072  0.07767663  0.09058569  0.1205639\n",
      "   0.05247143  0.08358197 -0.01056178 -0.08009986 -0.0965236  -0.06314295\n",
      "   0.05718627  0.04248528 -0.03834944 -0.15025848 -0.07207002 -0.11327569\n",
      "  -0.12579648  0.09100633  0.09162252  0.07044248 -0.16637023  0.04603346\n",
      "   0.06767174  0.05327276  0.22603    -0.04601596 -0.1092881   0.07018994\n",
      "  -0.08195367  0.08444448 -0.1102538  -0.15447783 -0.05656176  0.19853269\n",
      "  -0.06598217 -0.11816062  0.10387419 -0.063704    0.14971636 -0.13919946\n",
      "   0.07157185 -0.06661287  0.07253932 -0.06784009 -0.13173448 -0.07239971\n",
      "   0.07336348  0.10823625 -0.07809615  0.04859627 -0.07120662  0.05951367\n",
      "  -0.11356071 -0.05762084  0.08739968  0.06995794 -0.08477401  0.1192781\n",
      "   0.05306255 -0.05426224 -0.10470273 -0.0695496   0.06678285 -0.07804798\n",
      "   0.08547453  0.08595278 -0.11335916 -0.03105674  0.07183243  0.141492\n",
      "  -0.05006771 -0.07501963 -0.09670253 -0.1822306   0.11604917  0.07373631]]\n"
     ]
    }
   ],
   "source": [
    "embedding_layer = {}\n",
    "for i in vocab:\n",
    "    embedding_layer[i] = onehot.fit_transform(word_to_index[i]).todense()*W +b\n",
    "print(embedding_layer['bass'])"
   ]
  },
  {
   "cell_type": "code",
   "execution_count": 50,
   "metadata": {},
   "outputs": [],
   "source": [
    "test_words = ['connector', 'bass', 'quality',  'sound', 'booster', 'comparision', 'price', 'nice', 'worthy', 'beats']\n",
    "\n",
    "closest_10_words = {}\n",
    "\n",
    "for test_word in test_words:\n",
    "    test_word_embedding = embedding_layer[test_word]\n",
    "    distances = []\n",
    "    for i in vocab:\n",
    "        target_word_embedding = embedding_layer[i]\n",
    "        if i == test_word:\n",
    "            continue        \n",
    "        distances.append((cosine_distances(test_word_embedding, target_word_embedding), i))\n",
    "    closest_10_words[test_word] = [w[1] for w in sorted(distances, reverse=True)[0:10]]"
   ]
  },
  {
   "cell_type": "code",
   "execution_count": 51,
   "metadata": {},
   "outputs": [
    {
     "data": {
      "text/plain": [
       "{'bass': ['establishment',\n",
       "  'puts',\n",
       "  'ʙᴀss',\n",
       "  'bahot',\n",
       "  'wondering',\n",
       "  'trebble',\n",
       "  'hip',\n",
       "  'exchangable',\n",
       "  'besttt',\n",
       "  'plugging'],\n",
       " 'beats': ['establishment',\n",
       "  'puts',\n",
       "  'ʙᴀss',\n",
       "  'bahot',\n",
       "  'trebble',\n",
       "  'besttt',\n",
       "  'exchangable',\n",
       "  'hip',\n",
       "  'tottally',\n",
       "  'dekho'],\n",
       " 'booster': ['establishment',\n",
       "  'quality',\n",
       "  'sound',\n",
       "  'product',\n",
       "  'good',\n",
       "  'money',\n",
       "  'puts',\n",
       "  'nice',\n",
       "  'wondering',\n",
       "  'trebble'],\n",
       " 'comparision': ['establishment',\n",
       "  'puts',\n",
       "  'ʙᴀss',\n",
       "  'bahot',\n",
       "  'wondering',\n",
       "  'trebble',\n",
       "  'hip',\n",
       "  'exchangable',\n",
       "  'besttt',\n",
       "  'plugging'],\n",
       " 'connector': ['quality',\n",
       "  'sound',\n",
       "  'good',\n",
       "  'establishment',\n",
       "  'product',\n",
       "  'nice',\n",
       "  'money',\n",
       "  'value',\n",
       "  'awesome',\n",
       "  'price'],\n",
       " 'nice': ['establishment',\n",
       "  'dekho',\n",
       "  'bahot',\n",
       "  'ʙᴀss',\n",
       "  'tottally',\n",
       "  'exchangable',\n",
       "  'jhabua',\n",
       "  'hip',\n",
       "  'sᴏᴜɴᴅs',\n",
       "  'vangi'],\n",
       " 'price': ['establishment',\n",
       "  'ʙᴀss',\n",
       "  'wrapped',\n",
       "  'dekho',\n",
       "  'besttt',\n",
       "  'colored',\n",
       "  'bahot',\n",
       "  'mthe',\n",
       "  'tottally',\n",
       "  'hip'],\n",
       " 'quality': ['establishment',\n",
       "  'wrapped',\n",
       "  'ʙᴀss',\n",
       "  'dekho',\n",
       "  'plugging',\n",
       "  'suprbbbb',\n",
       "  'lve',\n",
       "  'tottally',\n",
       "  'bahot',\n",
       "  'puts'],\n",
       " 'sound': ['puts',\n",
       "  'plugging',\n",
       "  'establishment',\n",
       "  'palsticy',\n",
       "  'supportiv',\n",
       "  'tottally',\n",
       "  'colored',\n",
       "  'dull',\n",
       "  'cosine',\n",
       "  'charming'],\n",
       " 'worthy': ['establishment',\n",
       "  'ʙᴀss',\n",
       "  'puts',\n",
       "  'bahot',\n",
       "  'exchangable',\n",
       "  'besttt',\n",
       "  'wrapped',\n",
       "  'tottally',\n",
       "  'hip',\n",
       "  'jhabua']}"
      ]
     },
     "execution_count": 51,
     "metadata": {},
     "output_type": "execute_result"
    }
   ],
   "source": [
    "closest_10_words"
   ]
  }
 ],
 "metadata": {
  "kernelspec": {
   "display_name": "Python 3",
   "language": "python",
   "name": "python3"
  },
  "language_info": {
   "codemirror_mode": {
    "name": "ipython",
    "version": 3
   },
   "file_extension": ".py",
   "mimetype": "text/x-python",
   "name": "python",
   "nbconvert_exporter": "python",
   "pygments_lexer": "ipython3",
   "version": "3.6.4"
  }
 },
 "nbformat": 4,
 "nbformat_minor": 2
}
