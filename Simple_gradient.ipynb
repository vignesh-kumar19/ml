{
 "cells": [
  {
   "cell_type": "code",
   "execution_count": 1,
   "metadata": {},
   "outputs": [],
   "source": [
    "import numpy as np\n",
    "import matplotlib.pyplot as plt\n",
    "import random"
   ]
  },
  {
   "cell_type": "code",
   "execution_count": 194,
   "metadata": {},
   "outputs": [],
   "source": [
    "def generate_samaple_data(total_instances, variance, bias):\n",
    "    # Number of instances\n",
    "    X = np.array(range(total_instances)) + 1\n",
    "    \n",
    "    # Instances' target variable\n",
    "    Y = np.array([random.random() *  variance + i + bias for i in range(total_instances) ])\n",
    "    \n",
    "    # Convert into column vector\n",
    "    X = X.reshape(1, -1).T\n",
    "    Y = Y.reshape(1, -1).T\n",
    "\n",
    "#     Y = np.array([[2], [3], [4], [5], [6]])\n",
    "    X = np.hstack((np.ones(total_instances).reshape(1, -1).T, X))\n",
    "    return X, Y"
   ]
  },
  {
   "cell_type": "code",
   "execution_count": 198,
   "metadata": {},
   "outputs": [],
   "source": [
    "def gradient_model(X, Y):\n",
    "    theta = np.zeros(X.shape[1]).reshape(-1, 1)\n",
    "    N = len(X)\n",
    "    max_iterations = 100000\n",
    "    learning_rate = 0.001\n",
    "    for i in range(max_iterations):\n",
    "        # hypothesis calculattion\n",
    "        hypothesis = np.dot(X, theta)\n",
    "        \n",
    "        # loss calculation\n",
    "        loss = hypothesis - Y\n",
    "        \n",
    "        # Gradient\n",
    "        gradient = np.dot(X.T, loss) / N\n",
    "        \n",
    "        theta = theta - gradient * learning_rate\n",
    "    return theta\n",
    "    \n",
    "    "
   ]
  },
  {
   "cell_type": "code",
   "execution_count": 199,
   "metadata": {},
   "outputs": [],
   "source": [
    "def plot_model(X, Y, theta):\n",
    "    X_feature = X[:, 1]\n",
    "    plt.plot(X_feature, Y, 'x')\n",
    "    plt.plot(X_feature,  np.dot(X, theta), \"r-\")\n",
    "    plt.show()"
   ]
  },
  {
   "cell_type": "code",
   "execution_count": 200,
   "metadata": {},
   "outputs": [
    {
     "data": {
      "image/png": "[encoded data removed]",
      "text/plain": [
       "<matplotlib.figure.Figure at 0x7f84572154e0>"
      ]
     },
     "metadata": {},
     "output_type": "display_data"
    }
   ],
   "source": [
    "X, Y = generate_samaple_data(5, 100, 10)\n",
    "theta = gradient_model(X, Y)\n",
    "plot_model(X, Y, theta)"
   ]
  }
 ],
 "metadata": {
  "kernelspec": {
   "display_name": "Python 3",
   "language": "python",
   "name": "python3"
  },
  "language_info": {
   "codemirror_mode": {
    "name": "ipython",
    "version": 3
   },
   "file_extension": ".py",
   "mimetype": "text/x-python",
   "name": "python",
   "nbconvert_exporter": "python",
   "pygments_lexer": "ipython3",
   "version": "3.6.4"
  }
 },
 "nbformat": 4,
 "nbformat_minor": 2
}
